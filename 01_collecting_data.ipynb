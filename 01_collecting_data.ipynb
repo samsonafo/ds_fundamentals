{
 "cells": [
  {
   "cell_type": "markdown",
   "id": "cc52fead-c949-4056-87af-2b19823b011f",
   "metadata": {},
   "source": [
    "## Collecting Data"
   ]
  },
  {
   "cell_type": "markdown",
   "id": "cc0eefdf-2929-42cf-8cd3-bb69421fd111",
   "metadata": {},
   "source": [
    "![DS_Process](./images/12_page.jpg)\n",
    "\n",
    "![Collecting_Data](./images/13_page.jpg)\n",
    "\n",
    "![Collecting_Data_2](./images/14_page.jpg)\n",
    "\n",
    "![Collecting_Data_3](./images/15_page.jpg)"
   ]
  },
  {
   "cell_type": "markdown",
   "id": "6a92fac1-3e07-4926-b39e-5c95377af0de",
   "metadata": {},
   "source": [
    "### Where to find data\n",
    "\n",
    "[NIMH Data Archive](https://nda.nih.gov/) - National Institute of Mental Health Data Archive (NDA) makes available human subjects data collected from hundreds of research projects across many scientific domains\n",
    "\n",
    "[StatLib Datasets Archive](http://lib.stat.cmu.edu/datasets/)\n",
    "\n",
    "[Kaggle Datasets](https://www.kaggle.com/datasets)\n",
    "\n",
    "[Awesome Dataset](https://github.com/awesomedata/awesome-public-datasets)\n",
    "\n",
    "-- Personal Data (Google Products, Bank Statements etc.)\n",
    "\n",
    "-- Publicly available data through API's\n",
    "\n",
    "[Internet archive](https://archive.org/) - non-profit library of millions of free books, movies, software, music, websites, and more\n",
    "\n",
    "[r/datasets](https://www.reddit.com/r/datasets/)\n",
    "\n",
    "[Programmable Web](https://www.programmableweb.com) - API's\n",
    "\n",
    "[UCI Machine Learning Repository](https://archive.ics.uci.edu/ml/index.php)\n",
    "\n",
    "[Common crawl](https://commoncrawl.org/) - an open repository of web crawl data that can be accessed and analyzed by anyone\n",
    "\n",
    "[List of datasets for machine-learning research - Wikipedia](https://en.wikipedia.org/wiki/List_of_datasets_for_machine-learning_research)"
   ]
  },
  {
   "cell_type": "code",
   "execution_count": null,
   "id": "a0915f90-2f4c-44d7-8783-7a2f71cb8c30",
   "metadata": {},
   "outputs": [],
   "source": []
  }
 ],
 "metadata": {
  "kernelspec": {
   "display_name": "Python 3 (ipykernel)",
   "language": "python",
   "name": "python3"
  },
  "language_info": {
   "codemirror_mode": {
    "name": "ipython",
    "version": 3
   },
   "file_extension": ".py",
   "mimetype": "text/x-python",
   "name": "python",
   "nbconvert_exporter": "python",
   "pygments_lexer": "ipython3",
   "version": "3.7.16"
  }
 },
 "nbformat": 4,
 "nbformat_minor": 5
}
