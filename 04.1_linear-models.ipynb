{
 "cells": [
  {
   "cell_type": "code",
   "execution_count": 1,
   "metadata": {},
   "outputs": [],
   "source": [
    "import matplotlib.pyplot as plt\n",
    "import numpy as np\n",
    "from sklearn.linear_model import LogisticRegression"
   ]
  },
  {
   "cell_type": "markdown",
   "metadata": {},
   "source": [
    "# Linear models\n",
    "\n",
    "Pros\n",
    "- simple\n",
    "- interpretable\n",
    "\n",
    "Cons\n",
    "- only linear relationships between feature & target\n",
    "- no relationship between multiple features (such as if this, then that etc)\n",
    "\n",
    "When to use linear models\n",
    "- linear relationship between features & target\n",
    "- when you have good features\n",
    "- interpretability is important\n",
    "\n",
    "Requirement of no-collinearity\n",
    "- collinearity = correlation between features\n",
    "- this cause instability of parameters -> can't interpret the parameters\n",
    "\n",
    "We can use PCA with `whiten=True` to remove this:"
   ]
  },
  {
   "cell_type": "markdown",
   "metadata": {},
   "source": [
    "## Resources\n",
    "\n",
    "Vincent Warmerdam: Winning with Simple, even Linear, Models PyData London 2018 - [youtube](https://www.youtube.com/watch?v=68ABAU_V8qI) - [slides](https://koaning.io/theme/notebooks/simple-models.pdf)"
   ]
  },
  {
   "cell_type": "code",
   "execution_count": null,
   "metadata": {},
   "outputs": [],
   "source": []
  }
 ],
 "metadata": {
  "kernelspec": {
   "display_name": "Python 3 (ipykernel)",
   "language": "python",
   "name": "python3"
  },
  "language_info": {
   "codemirror_mode": {
    "name": "ipython",
    "version": 3
   },
   "file_extension": ".py",
   "mimetype": "text/x-python",
   "name": "python",
   "nbconvert_exporter": "python",
   "pygments_lexer": "ipython3",
   "version": "3.7.16"
  }
 },
 "nbformat": 4,
 "nbformat_minor": 4
}
